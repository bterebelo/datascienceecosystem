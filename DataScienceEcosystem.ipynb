{
 "cells": [
  {
   "cell_type": "markdown",
   "id": "d9dd6bb8-5bdf-4e03-ac36-c2bb322dbaae",
   "metadata": {},
   "source": [
    "# Data Science Tools and Ecosystem"
   ]
  },
  {
   "cell_type": "markdown",
   "id": "d6db4c50-23dd-4612-80b4-2ae5d4d75742",
   "metadata": {},
   "source": [
    "In this notebook, Data Science Tools and Ecosystem are summarized."
   ]
  },
  {
   "cell_type": "markdown",
   "id": "7aca4555-82ef-4903-9e30-08cb6dd1cb1c",
   "metadata": {},
   "source": [
    "__Objectives:__\n",
    "- Popular Languages for Data Science\n",
    "- Popular Packages for Data Science\n",
    "- Popular Tools for Data Science"
   ]
  },
  {
   "cell_type": "markdown",
   "id": "4210e4ed-dd49-4ee9-9569-b2a439f257e6",
   "metadata": {},
   "source": [
    "Some of the popular languages that Data Scientists use are:"
   ]
  },
  {
   "cell_type": "markdown",
   "id": "da710e19-ce60-4b6d-9771-584c7bf066ab",
   "metadata": {
    "tags": []
   },
   "source": [
    "1. Python\n",
    "2. R\n",
    "3. SQL"
   ]
  },
  {
   "cell_type": "markdown",
   "id": "69c2be5d-5e36-4d16-a4a3-48ad040d69eb",
   "metadata": {},
   "source": [
    "Some of the commonly used libraries used by Data Scientists include:"
   ]
  },
  {
   "cell_type": "markdown",
   "id": "90cbf342-ebc2-418a-b976-8495aad7860d",
   "metadata": {
    "tags": []
   },
   "source": [
    "1. TensorFlow\n",
    "2. PyTorch\n",
    "3. scikit-learn"
   ]
  },
  {
   "cell_type": "markdown",
   "id": "47907762-f8f0-4ea1-b421-1248ff2d472c",
   "metadata": {},
   "source": [
    "|Data Science Tools|\n",
    "| ------ |\n",
    "|R TSudio|\n",
    "|JupyterLab|\n",
    "|Condas|"
   ]
  },
  {
   "cell_type": "markdown",
   "id": "19d7ce8a-dcdd-48a0-8bd8-9cd7e51c4007",
   "metadata": {},
   "source": [
    "### Below are a few examples of aevaluating arithmetic expression in Python"
   ]
  },
  {
   "cell_type": "code",
   "execution_count": 5,
   "id": "6bfdbd73-a59f-4672-858e-8df5895e6cfe",
   "metadata": {
    "tags": []
   },
   "outputs": [
    {
     "data": {
      "text/plain": [
       "17"
      ]
     },
     "execution_count": 5,
     "metadata": {},
     "output_type": "execute_result"
    }
   ],
   "source": [
    "#This is a simple arithmetic expression to multiply then add intergers.\n",
    "(3*4)+5"
   ]
  },
  {
   "cell_type": "code",
   "execution_count": 7,
   "id": "d61a1353-337d-4db5-b698-d2763ce5c735",
   "metadata": {
    "tags": []
   },
   "outputs": [
    {
     "data": {
      "text/plain": [
       "3.3333333333333335"
      ]
     },
     "execution_count": 7,
     "metadata": {},
     "output_type": "execute_result"
    }
   ],
   "source": [
    "#This will convert 200 minutes to hours by dividing by 60\n",
    "200/60"
   ]
  },
  {
   "cell_type": "markdown",
   "id": "7c5ea3ab-cf14-46e0-adb4-d253b111f4a0",
   "metadata": {},
   "source": [
    "## Author"
   ]
  },
  {
   "cell_type": "markdown",
   "id": "3438babf-3762-4202-a3cc-9da586fdefb3",
   "metadata": {},
   "source": [
    "Ben T"
   ]
  },
  {
   "cell_type": "code",
   "execution_count": null,
   "id": "2e83f31e-444f-4245-90b9-603fe5bfbe8c",
   "metadata": {},
   "outputs": [],
   "source": []
  }
 ],
 "metadata": {
  "kernelspec": {
   "display_name": "Python 3 (ipykernel)",
   "language": "python",
   "name": "python3"
  },
  "language_info": {
   "codemirror_mode": {
    "name": "ipython",
    "version": 3
   },
   "file_extension": ".py",
   "mimetype": "text/x-python",
   "name": "python",
   "nbconvert_exporter": "python",
   "pygments_lexer": "ipython3",
   "version": "3.11.3"
  }
 },
 "nbformat": 4,
 "nbformat_minor": 5
}
